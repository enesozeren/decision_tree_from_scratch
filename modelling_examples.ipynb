{
 "cells": [
  {
   "cell_type": "code",
   "execution_count": 1,
   "metadata": {},
   "outputs": [],
   "source": [
    "import numpy as np\n",
    "from sklearn import datasets, model_selection, metrics\n",
    "from decision_tree import DecisionTree"
   ]
  },
  {
   "cell_type": "markdown",
   "metadata": {},
   "source": [
    "# Training on Iris Dataset"
   ]
  },
  {
   "cell_type": "code",
   "execution_count": 2,
   "metadata": {},
   "outputs": [
    {
     "name": "stdout",
     "output_type": "stream",
     "text": [
      "Train Shape: (112, 4)\n",
      "Train Shape: (38, 4)\n"
     ]
    }
   ],
   "source": [
    "iris = datasets.load_iris()\n",
    "\n",
    "X = np.array(iris.data)\n",
    "Y = np.array(iris.target)\n",
    "\n",
    "X_train, X_test, Y_train, Y_test = model_selection.train_test_split(X, Y, test_size=0.25, random_state=0)\n",
    "print(\"Train Shape:\", X_train.shape)\n",
    "print(\"Train Shape:\", X_test.shape)"
   ]
  },
  {
   "cell_type": "code",
   "execution_count": 3,
   "metadata": {},
   "outputs": [],
   "source": [
    "# Building the tree\n",
    "my_tree = DecisionTree(max_depth=4, min_samples_leaf=1)\n",
    "my_tree.train(X_train, Y_train)"
   ]
  },
  {
   "cell_type": "code",
   "execution_count": 4,
   "metadata": {},
   "outputs": [
    {
     "name": "stdout",
     "output_type": "stream",
     "text": [
      "                                                ->  LEAF:  Labels Count=0.0->10 Pred Probs=[1. 0. 0.]\n",
      "                                ->  Node: Is X[2] < 3.0 \n",
      "                                                ->  LEAF:  Labels Count=1.0->11 Pred Probs=[0. 1. 0.]\n",
      "                ->  Node: Is X[1] < 3.2 \n",
      "                                                ->  LEAF:  Labels Count=0.0->10 Pred Probs=[1. 0. 0.]\n",
      "                                ->  Node: Is X[0] < 5.1 \n",
      "                                                ->  LEAF:  Labels Count=0.0->17 Pred Probs=[1. 0. 0.]\n",
      "->  Node: Is X[3] < 1.3 \n",
      "                                                ->  LEAF:  Labels Count=1.0->12 Pred Probs=[0. 1. 0.]\n",
      "                                ->  Node: Is X[2] < 4.5 \n",
      "                                                ->  LEAF:  Labels Count=1.0->11, 2.0->6 Pred Probs=[0.         0.64705882 0.35294118]\n",
      "                ->  Node: Is X[2] < 5.1 \n",
      "                                                ->  LEAF:  Labels Count=2.0->14 Pred Probs=[0. 0. 1.]\n",
      "                                ->  Node: Is X[0] < 6.7 \n",
      "                                                ->  LEAF:  Labels Count=2.0->21 Pred Probs=[0. 0. 1.]\n"
     ]
    }
   ],
   "source": [
    "# Let's see the tree\n",
    "my_tree.print_tree()"
   ]
  },
  {
   "cell_type": "code",
   "execution_count": 7,
   "metadata": {},
   "outputs": [
    {
     "name": "stdout",
     "output_type": "stream",
     "text": [
      "TRAIN PERFORMANCE\n",
      "Train size 112\n",
      "True preds 106\n",
      "Train Accuracy 0.9464285714285714\n"
     ]
    }
   ],
   "source": [
    "# Let's see the Train performance\n",
    "train_preds = my_tree.predict(X_set=X_train)\n",
    "print(\"TRAIN PERFORMANCE\")\n",
    "print(\"Train size\", len(Y_train))\n",
    "print(\"True preds\", sum(train_preds == Y_train))\n",
    "print(\"Train Accuracy\", sum(train_preds == Y_train) / len(Y_train))"
   ]
  },
  {
   "cell_type": "code",
   "execution_count": 9,
   "metadata": {},
   "outputs": [
    {
     "name": "stdout",
     "output_type": "stream",
     "text": [
      "TEST PERFORMANCE\n",
      "Test size 38\n",
      "True preds 34\n",
      "Accuracy 0.8947368421052632\n"
     ]
    }
   ],
   "source": [
    "# Let's see the Test performance\n",
    "test_preds = my_tree.predict(X_set=X_test)\n",
    "print(\"TEST PERFORMANCE\")\n",
    "print(\"Test size\", len(Y_test))\n",
    "print(\"True preds\", sum(test_preds == Y_test))\n",
    "print(\"Accuracy\", sum(test_preds == Y_test) / len(Y_test))"
   ]
  },
  {
   "cell_type": "markdown",
   "metadata": {},
   "source": [
    "# Training on Breast Cancer Dataset"
   ]
  },
  {
   "cell_type": "code",
   "execution_count": 15,
   "metadata": {},
   "outputs": [
    {
     "name": "stdout",
     "output_type": "stream",
     "text": [
      "Train Shape: (455, 30)\n",
      "Train Shape: (114, 30)\n"
     ]
    }
   ],
   "source": [
    "# Load data\n",
    "data = datasets.load_breast_cancer()\n",
    "X = data.data\n",
    "Y = data.target\n",
    "\n",
    "X_train, X_test, Y_train, Y_test = model_selection.train_test_split(X, Y, test_size=0.2, random_state=0)\n",
    "print(\"Train Shape:\", X_train.shape)\n",
    "print(\"Train Shape:\", X_test.shape)"
   ]
  },
  {
   "cell_type": "code",
   "execution_count": 16,
   "metadata": {},
   "outputs": [],
   "source": [
    "# Building the tree\n",
    "my_tree_2 = DecisionTree(max_depth=4, min_samples_leaf=1)\n",
    "my_tree_2.train(X_train, Y_train)"
   ]
  },
  {
   "cell_type": "code",
   "execution_count": 17,
   "metadata": {},
   "outputs": [
    {
     "name": "stdout",
     "output_type": "stream",
     "text": [
      "                                                ->  LEAF:  Labels Count=1.0->56 Pred Probs=[0. 1.]\n",
      "                                ->  Node: Is X[0] < 11.34 \n",
      "                                                ->  LEAF:  Labels Count=1.0->57 Pred Probs=[0. 1.]\n",
      "                ->  Node: Is X[7] < 0.0218 \n",
      "                                                ->  LEAF:  Labels Count=1.0->57 Pred Probs=[0. 1.]\n",
      "                                ->  Node: Is X[21] < 22.45 \n",
      "                                                ->  LEAF:  Labels Count=0.0->5, 1.0->52 Pred Probs=[0.0877193 0.9122807]\n",
      "->  Node: Is X[20] < 14.85 \n",
      "                                                ->  LEAF:  Labels Count=0.0->4, 1.0->53 Pred Probs=[0.07017544 0.92982456]\n",
      "                                ->  Node: Is X[26] < 0.2649 \n",
      "                                                ->  LEAF:  Labels Count=0.0->43, 1.0->14 Pred Probs=[0.75438596 0.24561404]\n",
      "                ->  Node: Is X[20] < 18.409999999999997 \n",
      "                                                ->  LEAF:  Labels Count=0.0->55, 1.0->1 Pred Probs=[0.98214286 0.01785714]\n",
      "                                ->  Node: Is X[8] < 0.1893 \n",
      "                                                ->  LEAF:  Labels Count=0.0->58 Pred Probs=[1. 0.]\n"
     ]
    }
   ],
   "source": [
    "my_tree_2.print_tree()"
   ]
  },
  {
   "cell_type": "code",
   "execution_count": 18,
   "metadata": {},
   "outputs": [
    {
     "name": "stdout",
     "output_type": "stream",
     "text": [
      "TRAIN PERFORMANCE\n",
      "Train size 455\n",
      "True preds 431\n",
      "Train Accuracy 0.9472527472527472\n"
     ]
    }
   ],
   "source": [
    "# Let's see the Train performance\n",
    "train_preds = my_tree_2.predict(X_set=X_train)\n",
    "print(\"TRAIN PERFORMANCE\")\n",
    "print(\"Train size\", len(Y_train))\n",
    "print(\"True preds\", sum(train_preds == Y_train))\n",
    "print(\"Train Accuracy\", sum(train_preds == Y_train) / len(Y_train))"
   ]
  },
  {
   "cell_type": "code",
   "execution_count": 19,
   "metadata": {},
   "outputs": [
    {
     "name": "stdout",
     "output_type": "stream",
     "text": [
      "TEST PERFORMANCE\n",
      "Test size 114\n",
      "True preds 108\n",
      "Accuracy 0.9473684210526315\n"
     ]
    }
   ],
   "source": [
    "# Let's see the Test performance\n",
    "test_preds = my_tree_2.predict(X_set=X_test)\n",
    "print(\"TEST PERFORMANCE\")\n",
    "print(\"Test size\", len(Y_test))\n",
    "print(\"True preds\", sum(test_preds == Y_test))\n",
    "print(\"Accuracy\", sum(test_preds == Y_test) / len(Y_test))"
   ]
  },
  {
   "cell_type": "code",
   "execution_count": null,
   "metadata": {},
   "outputs": [],
   "source": []
  }
 ],
 "metadata": {
  "kernelspec": {
   "display_name": "dsfs",
   "language": "python",
   "name": "python3"
  },
  "language_info": {
   "codemirror_mode": {
    "name": "ipython",
    "version": 3
   },
   "file_extension": ".py",
   "mimetype": "text/x-python",
   "name": "python",
   "nbconvert_exporter": "python",
   "pygments_lexer": "ipython3",
   "version": "3.10.12"
  },
  "orig_nbformat": 4
 },
 "nbformat": 4,
 "nbformat_minor": 2
}
