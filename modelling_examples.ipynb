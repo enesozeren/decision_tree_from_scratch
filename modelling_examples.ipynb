{
 "cells": [
  {
   "cell_type": "code",
   "execution_count": 9,
   "metadata": {},
   "outputs": [],
   "source": [
    "import numpy as np\n",
    "from sklearn import datasets, model_selection, metrics\n",
    "from decision_tree import DecisionTree"
   ]
  },
  {
   "cell_type": "markdown",
   "metadata": {},
   "source": [
    "# Training on Iris Dataset"
   ]
  },
  {
   "cell_type": "code",
   "execution_count": 10,
   "metadata": {},
   "outputs": [
    {
     "name": "stdout",
     "output_type": "stream",
     "text": [
      "Train Size: 112\n",
      "Train Size: 38\n"
     ]
    }
   ],
   "source": [
    "iris = datasets.load_iris()\n",
    "\n",
    "X = np.array(iris.data)\n",
    "Y = np.array(iris.target)\n",
    "\n",
    "X_train, X_test, Y_train, Y_test = model_selection.train_test_split(X, Y, test_size=0.25, random_state=42)\n",
    "print(\"Train Size:\", X_train.shape[0])\n",
    "print(\"Train Size:\", X_test.shape[0])"
   ]
  },
  {
   "cell_type": "code",
   "execution_count": 11,
   "metadata": {},
   "outputs": [],
   "source": [
    "# Building the tree\n",
    "my_tree = DecisionTree(max_depth=4, min_samples_leaf=1)\n",
    "my_tree.train(X_train, Y_train)"
   ]
  },
  {
   "cell_type": "code",
   "execution_count": 12,
   "metadata": {},
   "outputs": [
    {
     "name": "stdout",
     "output_type": "stream",
     "text": [
      "                                                ->  Idx=0  Val=4.6 Labels=(array([0.]), array([11])) Pred Probs=[1. 0. 0.]\n",
      "                                ->  Idx=2  Val=3.0 Labels=(array([0., 1.]), array([11, 12])) Pred Probs=[0.47826087 0.52173913 0.        ]\n",
      "                                                ->  Idx=0  Val=5.5 Labels=(array([1.]), array([12])) Pred Probs=[0. 1. 0.]\n",
      "                ->  Idx=1  Val=3.3 Labels=(array([0., 1.]), array([35, 12])) Pred Probs=[0.74468085 0.25531915 0.        ]\n",
      "                                                ->  Idx=0  Val=5.0 Labels=(array([0.]), array([8])) Pred Probs=[1. 0. 0.]\n",
      "                                ->  Idx=0  Val=5.1 Labels=(array([0.]), array([24])) Pred Probs=[1. 0. 0.]\n",
      "                                                ->  Idx=0  Val=5.2 Labels=(array([0.]), array([16])) Pred Probs=[1. 0. 0.]\n",
      "->  Idx=3  Val=1.3 Labels=(array([0., 1., 2.]), array([35, 39, 38])) Pred Probs=[0.3125     0.34821429 0.33928571]\n",
      "                                                ->  Idx=0  Val=5.7 Labels=(array([1.]), array([13])) Pred Probs=[0. 1. 0.]\n",
      "                                ->  Idx=2  Val=4.5 Labels=(array([1., 2.]), array([26,  5])) Pred Probs=[0.         0.83870968 0.16129032]\n",
      "                                                ->  Idx=1  Val=2.95 Labels=(array([1., 2.]), array([13,  5])) Pred Probs=[0.         0.72222222 0.27777778]\n",
      "                ->  Idx=3  Val=1.8 Labels=(array([1., 2.]), array([27, 38])) Pred Probs=[0.         0.41538462 0.58461538]\n",
      "                                                ->  Idx=0  Val=6.3 Labels=(array([1., 2.]), array([ 1, 13])) Pred Probs=[0.         0.07142857 0.92857143]\n",
      "                                ->  Idx=3  Val=2.0 Labels=(array([1., 2.]), array([ 1, 33])) Pred Probs=[0.         0.02941176 0.97058824]\n",
      "                                                ->  Idx=0  Val=6.7 Labels=(array([2.]), array([20])) Pred Probs=[0. 0. 1.]\n"
     ]
    }
   ],
   "source": [
    "# Let's see the tree\n",
    "my_tree.print_tree()"
   ]
  },
  {
   "cell_type": "code",
   "execution_count": 13,
   "metadata": {},
   "outputs": [
    {
     "name": "stdout",
     "output_type": "stream",
     "text": [
      "TRAIN PERFORMANCE\n",
      "Train size 112\n",
      "True preds 106\n",
      "Train Accuracy 0.9464285714285714\n"
     ]
    }
   ],
   "source": [
    "# Let's see the Train performance\n",
    "train_preds = my_tree.predict(X_set=X_train)\n",
    "print(\"TRAIN PERFORMANCE\")\n",
    "print(\"Train size\", len(Y_train))\n",
    "print(\"True preds\", sum(train_preds == Y_train))\n",
    "print(\"Train Accuracy\", sum(train_preds == Y_train) / len(Y_train))"
   ]
  },
  {
   "cell_type": "code",
   "execution_count": 14,
   "metadata": {},
   "outputs": [
    {
     "name": "stdout",
     "output_type": "stream",
     "text": [
      "TEST PERFORMANCE\n",
      "Test size 38\n",
      "True preds 38\n",
      "Accuracy 1.0\n"
     ]
    }
   ],
   "source": [
    "# Let's see the Test performance\n",
    "test_preds = my_tree.predict(X_set=X_test)\n",
    "print(\"TEST PERFORMANCE\")\n",
    "print(\"Test size\", len(Y_test))\n",
    "print(\"True preds\", sum(test_preds == Y_test))\n",
    "print(\"Accuracy\", sum(test_preds == Y_test) / len(Y_test))"
   ]
  },
  {
   "cell_type": "markdown",
   "metadata": {},
   "source": [
    "# Training on Breast Cancer Dataset"
   ]
  },
  {
   "cell_type": "code",
   "execution_count": 16,
   "metadata": {},
   "outputs": [
    {
     "name": "stdout",
     "output_type": "stream",
     "text": [
      "Train Size: 455\n",
      "Train Size: 114\n"
     ]
    }
   ],
   "source": [
    "# Load data\n",
    "data = datasets.load_breast_cancer()\n",
    "X = data.data\n",
    "Y = data.target\n",
    "\n",
    "X_train, X_test, Y_train, Y_test = model_selection.train_test_split(X, Y, test_size=0.2, random_state=42)\n",
    "print(\"Train Size:\", X_train.shape[0])\n",
    "print(\"Train Size:\", X_test.shape[0])"
   ]
  },
  {
   "cell_type": "code",
   "execution_count": 17,
   "metadata": {},
   "outputs": [],
   "source": [
    "# Building the tree\n",
    "my_tree_2 = DecisionTree(max_depth=4, min_samples_leaf=1)\n",
    "my_tree_2.train(X_train, Y_train)"
   ]
  },
  {
   "cell_type": "code",
   "execution_count": 18,
   "metadata": {},
   "outputs": [
    {
     "name": "stdout",
     "output_type": "stream",
     "text": [
      "                                                ->  Idx=0  Val=10.12 Labels=(array([1.]), array([56])) Pred Probs=[0. 1.]\n",
      "                                ->  Idx=0  Val=11.46 Labels=(array([1.]), array([113])) Pred Probs=[0. 1.]\n",
      "                                                ->  Idx=0  Val=12.42 Labels=(array([1.]), array([57])) Pred Probs=[0. 1.]\n",
      "                ->  Idx=7  Val=0.02 Labels=(array([0., 1.]), array([  6, 221])) Pred Probs=[0.02643172 0.97356828]\n",
      "                                                ->  Idx=0  Val=12.05 Labels=(array([1.]), array([57])) Pred Probs=[0. 1.]\n",
      "                                ->  Idx=21  Val=22.96 Labels=(array([0., 1.]), array([  6, 108])) Pred Probs=[0.05263158 0.94736842]\n",
      "                                                ->  Idx=0  Val=11.85 Labels=(array([0., 1.]), array([ 6, 51])) Pred Probs=[0.10526316 0.89473684]\n",
      "->  Idx=20  Val=14.97 Labels=(array([0., 1.]), array([169, 286])) Pred Probs=[0.37142857 0.62857143]\n",
      "                                                ->  Idx=1  Val=18.68 Labels=(array([0., 1.]), array([ 8, 49])) Pred Probs=[0.14035088 0.85964912]\n",
      "                                ->  Idx=23  Val=830.75 Labels=(array([0., 1.]), array([49, 65])) Pred Probs=[0.42982456 0.57017544]\n",
      "                                                ->  Idx=1  Val=20.2 Labels=(array([0., 1.]), array([41, 16])) Pred Probs=[0.71929825 0.28070175]\n",
      "                ->  Idx=27  Val=0.16 Labels=(array([0., 1.]), array([163,  65])) Pred Probs=[0.71491228 0.28508772]\n",
      "                                                ->  Idx=0  Val=15.46 Labels=(array([0.]), array([57])) Pred Probs=[1. 0.]\n",
      "                                ->  Idx=0  Val=18.48 Labels=(array([0.]), array([114])) Pred Probs=[1. 0.]\n",
      "                                                ->  Idx=0  Val=20.18 Labels=(array([0.]), array([57])) Pred Probs=[1. 0.]\n"
     ]
    }
   ],
   "source": [
    "my_tree_2.print_tree()"
   ]
  },
  {
   "cell_type": "code",
   "execution_count": 19,
   "metadata": {},
   "outputs": [
    {
     "name": "stdout",
     "output_type": "stream",
     "text": [
      "TRAIN PERFORMANCE\n",
      "Train size 455\n",
      "True preds 425\n",
      "Train Accuracy 0.9340659340659341\n"
     ]
    }
   ],
   "source": [
    "# Let's see the Train performance\n",
    "train_preds = my_tree_2.predict(X_set=X_train)\n",
    "print(\"TRAIN PERFORMANCE\")\n",
    "print(\"Train size\", len(Y_train))\n",
    "print(\"True preds\", sum(train_preds == Y_train))\n",
    "print(\"Train Accuracy\", sum(train_preds == Y_train) / len(Y_train))"
   ]
  },
  {
   "cell_type": "code",
   "execution_count": 20,
   "metadata": {},
   "outputs": [
    {
     "name": "stdout",
     "output_type": "stream",
     "text": [
      "TEST PERFORMANCE\n",
      "Test size 114\n",
      "True preds 107\n",
      "Accuracy 0.9385964912280702\n"
     ]
    }
   ],
   "source": [
    "# Let's see the Test performance\n",
    "test_preds = my_tree_2.predict(X_set=X_test)\n",
    "print(\"TEST PERFORMANCE\")\n",
    "print(\"Test size\", len(Y_test))\n",
    "print(\"True preds\", sum(test_preds == Y_test))\n",
    "print(\"Accuracy\", sum(test_preds == Y_test) / len(Y_test))"
   ]
  }
 ],
 "metadata": {
  "kernelspec": {
   "display_name": "dsfs",
   "language": "python",
   "name": "python3"
  },
  "language_info": {
   "codemirror_mode": {
    "name": "ipython",
    "version": 3
   },
   "file_extension": ".py",
   "mimetype": "text/x-python",
   "name": "python",
   "nbconvert_exporter": "python",
   "pygments_lexer": "ipython3",
   "version": "3.10.12"
  },
  "orig_nbformat": 4
 },
 "nbformat": 4,
 "nbformat_minor": 2
}
