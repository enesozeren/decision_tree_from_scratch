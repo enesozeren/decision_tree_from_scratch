{
 "cells": [
  {
   "cell_type": "code",
   "execution_count": 9,
   "metadata": {},
   "outputs": [],
   "source": [
    "import numpy as np\n",
    "from sklearn import datasets, model_selection, metrics\n",
    "from decision_tree import DecisionTree"
   ]
  },
  {
   "cell_type": "markdown",
   "metadata": {},
   "source": [
    "# Training on Iris Dataset"
   ]
  },
  {
   "cell_type": "code",
   "execution_count": 10,
   "metadata": {},
   "outputs": [
    {
     "name": "stdout",
     "output_type": "stream",
     "text": [
      "Train Size: 112\n",
      "Train Size: 38\n"
     ]
    }
   ],
   "source": [
    "iris = datasets.load_iris()\n",
    "\n",
    "X = np.array(iris.data)\n",
    "Y = np.array(iris.target)\n",
    "\n",
    "X_train, X_test, Y_train, Y_test = model_selection.train_test_split(X, Y, test_size=0.25, random_state=42)\n",
    "print(\"Train Size:\", X_train.shape[0])\n",
    "print(\"Train Size:\", X_test.shape[0])"
   ]
  },
  {
   "cell_type": "code",
   "execution_count": 11,
   "metadata": {},
   "outputs": [],
   "source": [
    "# Building the tree\n",
    "my_tree = DecisionTree(max_depth=4, min_samples_leaf=1)\n",
    "my_tree.train(X_train, Y_train)"
   ]
  },
  {
   "cell_type": "code",
   "execution_count": 12,
   "metadata": {},
   "outputs": [
    {
     "name": "stdout",
     "output_type": "stream",
     "text": [
      "                                                ->  Idx=0  Val=4.6 Labels=(array([0.]), array([11])) Pred Probs=[1. 0. 0.]\n",
      "                                ->  Idx=2  Val=3.0 Labels=(array([0., 1.]), array([11, 12])) Pred Probs=[0.47826087 0.52173913 0.        ]\n",
      "                                                ->  Idx=0  Val=5.5 Labels=(array([1.]), array([12])) Pred Probs=[0. 1. 0.]\n",
      "                ->  Idx=1  Val=3.3 Labels=(array([0., 1.]), array([35, 12])) Pred Probs=[0.74468085 0.25531915 0.        ]\n",
      "                                                ->  Idx=0  Val=5.0 Labels=(array([0.]), array([8])) Pred Probs=[1. 0. 0.]\n",
      "                                ->  Idx=0  Val=5.1 Labels=(array([0.]), array([24])) Pred Probs=[1. 0. 0.]\n",
      "                                                ->  Idx=0  Val=5.2 Labels=(array([0.]), array([16])) Pred Probs=[1. 0. 0.]\n",
      "->  Idx=3  Val=1.3 Labels=(array([0., 1., 2.]), array([35, 39, 38])) Pred Probs=[0.3125     0.34821429 0.33928571]\n",
      "                                                ->  Idx=0  Val=5.7 Labels=(array([1.]), array([13])) Pred Probs=[0. 1. 0.]\n",
      "                                ->  Idx=2  Val=4.5 Labels=(array([1., 2.]), array([26,  5])) Pred Probs=[0.         0.83870968 0.16129032]\n",
      "                                                ->  Idx=1  Val=2.95 Labels=(array([1., 2.]), array([13,  5])) Pred Probs=[0.         0.72222222 0.27777778]\n",
      "                ->  Idx=3  Val=1.8 Labels=(array([1., 2.]), array([27, 38])) Pred Probs=[0.         0.41538462 0.58461538]\n",
      "                                                ->  Idx=0  Val=6.3 Labels=(array([1., 2.]), array([ 1, 13])) Pred Probs=[0.         0.07142857 0.92857143]\n",
      "                                ->  Idx=3  Val=2.0 Labels=(array([1., 2.]), array([ 1, 33])) Pred Probs=[0.         0.02941176 0.97058824]\n",
      "                                                ->  Idx=0  Val=6.7 Labels=(array([2.]), array([20])) Pred Probs=[0. 0. 1.]\n"
     ]
    }
   ],
   "source": [
    "# Let's see the tree\n",
    "my_tree.print_tree()"
   ]
  },
  {
   "cell_type": "code",
   "execution_count": 13,
   "metadata": {},
   "outputs": [
    {
     "name": "stdout",
     "output_type": "stream",
     "text": [
      "TRAIN PERFORMANCE\n",
      "Train size 112\n",
      "True preds 106\n",
      "Train Accuracy 0.9464285714285714\n"
     ]
    }
   ],
   "source": [
    "# Let's see the Train performance\n",
    "train_preds = my_tree.predict(X_set=X_train)\n",
    "print(\"TRAIN PERFORMANCE\")\n",
    "print(\"Train size\", len(Y_train))\n",
    "print(\"True preds\", sum(train_preds == Y_train))\n",
    "print(\"Train Accuracy\", sum(train_preds == Y_train) / len(Y_train))"
   ]
  },
  {
   "cell_type": "code",
   "execution_count": 14,
   "metadata": {},
   "outputs": [
    {
     "name": "stdout",
     "output_type": "stream",
     "text": [
      "TEST PERFORMANCE\n",
      "Test size 38\n",
      "True preds 38\n",
      "Accuracy 1.0\n"
     ]
    }
   ],
   "source": [
    "# Let's see the Test performance\n",
    "test_preds = my_tree.predict(X_set=X_test)\n",
    "print(\"TEST PERFORMANCE\")\n",
    "print(\"Test size\", len(Y_test))\n",
    "print(\"True preds\", sum(test_preds == Y_test))\n",
    "print(\"Accuracy\", sum(test_preds == Y_test) / len(Y_test))"
   ]
  }
 ],
 "metadata": {
  "kernelspec": {
   "display_name": "dsfs",
   "language": "python",
   "name": "python3"
  },
  "language_info": {
   "codemirror_mode": {
    "name": "ipython",
    "version": 3
   },
   "file_extension": ".py",
   "mimetype": "text/x-python",
   "name": "python",
   "nbconvert_exporter": "python",
   "pygments_lexer": "ipython3",
   "version": "3.10.12"
  },
  "orig_nbformat": 4
 },
 "nbformat": 4,
 "nbformat_minor": 2
}
