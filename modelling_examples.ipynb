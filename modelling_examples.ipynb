{
 "cells": [
  {
   "cell_type": "code",
   "execution_count": 1,
   "metadata": {},
   "outputs": [],
   "source": [
    "import numpy as np\n",
    "from sklearn import datasets, model_selection, metrics\n",
    "from decision_tree import DecisionTree"
   ]
  },
  {
   "cell_type": "markdown",
   "metadata": {},
   "source": [
    "# Training on Iris Dataset"
   ]
  },
  {
   "cell_type": "code",
   "execution_count": 2,
   "metadata": {},
   "outputs": [
    {
     "name": "stdout",
     "output_type": "stream",
     "text": [
      "Train Size: 112\n",
      "Train Size: 38\n"
     ]
    }
   ],
   "source": [
    "iris = datasets.load_iris()\n",
    "\n",
    "X = np.array(iris.data)\n",
    "Y = np.array(iris.target)\n",
    "\n",
    "X_train, X_test, Y_train, Y_test = model_selection.train_test_split(X, Y, test_size=0.25, random_state=42)\n",
    "print(\"Train Size:\", X_train.shape[0])\n",
    "print(\"Train Size:\", X_test.shape[0])"
   ]
  },
  {
   "cell_type": "code",
   "execution_count": 3,
   "metadata": {},
   "outputs": [],
   "source": [
    "# Building the tree\n",
    "my_tree = DecisionTree(max_depth=4, min_samples_leaf=1)\n",
    "my_tree.train(X_train, Y_train)"
   ]
  },
  {
   "cell_type": "code",
   "execution_count": 5,
   "metadata": {},
   "outputs": [
    {
     "name": "stdout",
     "output_type": "stream",
     "text": [
      "                                                ->  LEAF:  Labels Count=0.0->11 Pred Probs=[1. 0. 0.]\n",
      "                                ->  Node: Is X[2] < 3.0 \n",
      "                                                ->  LEAF:  Labels Count=1.0->12 Pred Probs=[0. 1. 0.]\n",
      "                ->  Node: Is X[1] < 3.3 \n",
      "                                                ->  LEAF:  Labels Count=0.0->8 Pred Probs=[1. 0. 0.]\n",
      "                                ->  Node: Is X[0] < 5.1 \n",
      "                                                ->  LEAF:  Labels Count=0.0->16 Pred Probs=[1. 0. 0.]\n",
      "->  Node: Is X[3] < 1.3 \n",
      "                                                ->  LEAF:  Labels Count=1.0->13 Pred Probs=[0. 1. 0.]\n",
      "                                ->  Node: Is X[2] < 4.5 \n",
      "                                                ->  LEAF:  Labels Count=1.0->13, 2.0->5 Pred Probs=[0.         0.72222222 0.27777778]\n",
      "                ->  Node: Is X[3] < 1.8 \n",
      "                                                ->  LEAF:  Labels Count=1.0->1, 2.0->13 Pred Probs=[0.         0.07142857 0.92857143]\n",
      "                                ->  Node: Is X[3] < 2.0 \n",
      "                                                ->  LEAF:  Labels Count=2.0->20 Pred Probs=[0. 0. 1.]\n"
     ]
    }
   ],
   "source": [
    "# Let's see the tree\n",
    "my_tree.print_tree()"
   ]
  },
  {
   "cell_type": "code",
   "execution_count": 6,
   "metadata": {},
   "outputs": [
    {
     "name": "stdout",
     "output_type": "stream",
     "text": [
      "TRAIN PERFORMANCE\n",
      "Train size 112\n",
      "True preds 106\n",
      "Train Accuracy 0.9464285714285714\n"
     ]
    }
   ],
   "source": [
    "# Let's see the Train performance\n",
    "train_preds = my_tree.predict(X_set=X_train)\n",
    "print(\"TRAIN PERFORMANCE\")\n",
    "print(\"Train size\", len(Y_train))\n",
    "print(\"True preds\", sum(train_preds == Y_train))\n",
    "print(\"Train Accuracy\", sum(train_preds == Y_train) / len(Y_train))"
   ]
  },
  {
   "cell_type": "code",
   "execution_count": 7,
   "metadata": {},
   "outputs": [
    {
     "name": "stdout",
     "output_type": "stream",
     "text": [
      "TEST PERFORMANCE\n",
      "Test size 38\n",
      "True preds 38\n",
      "Accuracy 1.0\n"
     ]
    }
   ],
   "source": [
    "# Let's see the Test performance\n",
    "test_preds = my_tree.predict(X_set=X_test)\n",
    "print(\"TEST PERFORMANCE\")\n",
    "print(\"Test size\", len(Y_test))\n",
    "print(\"True preds\", sum(test_preds == Y_test))\n",
    "print(\"Accuracy\", sum(test_preds == Y_test) / len(Y_test))"
   ]
  },
  {
   "cell_type": "markdown",
   "metadata": {},
   "source": [
    "# Training on Breast Cancer Dataset"
   ]
  },
  {
   "cell_type": "code",
   "execution_count": 8,
   "metadata": {},
   "outputs": [
    {
     "name": "stdout",
     "output_type": "stream",
     "text": [
      "Train Size: 455\n",
      "Train Size: 114\n"
     ]
    }
   ],
   "source": [
    "# Load data\n",
    "data = datasets.load_breast_cancer()\n",
    "X = data.data\n",
    "Y = data.target\n",
    "\n",
    "X_train, X_test, Y_train, Y_test = model_selection.train_test_split(X, Y, test_size=0.2, random_state=42)\n",
    "print(\"Train Size:\", X_train.shape[0])\n",
    "print(\"Train Size:\", X_test.shape[0])"
   ]
  },
  {
   "cell_type": "code",
   "execution_count": 9,
   "metadata": {},
   "outputs": [],
   "source": [
    "# Building the tree\n",
    "my_tree_2 = DecisionTree(max_depth=4, min_samples_leaf=1)\n",
    "my_tree_2.train(X_train, Y_train)"
   ]
  },
  {
   "cell_type": "code",
   "execution_count": 10,
   "metadata": {},
   "outputs": [
    {
     "name": "stdout",
     "output_type": "stream",
     "text": [
      "                                                ->  LEAF:  Labels Count=1.0->56 Pred Probs=[0. 1.]\n",
      "                                ->  Node: Is X[0] < 11.46 \n",
      "                                                ->  LEAF:  Labels Count=1.0->57 Pred Probs=[0. 1.]\n",
      "                ->  Node: Is X[7] < 0.02107 \n",
      "                                                ->  LEAF:  Labels Count=1.0->57 Pred Probs=[0. 1.]\n",
      "                                ->  Node: Is X[21] < 22.965 \n",
      "                                                ->  LEAF:  Labels Count=0.0->6, 1.0->51 Pred Probs=[0.10526316 0.89473684]\n",
      "->  Node: Is X[20] < 14.97 \n",
      "                                                ->  LEAF:  Labels Count=0.0->8, 1.0->49 Pred Probs=[0.14035088 0.85964912]\n",
      "                                ->  Node: Is X[23] < 830.75 \n",
      "                                                ->  LEAF:  Labels Count=0.0->41, 1.0->16 Pred Probs=[0.71929825 0.28070175]\n",
      "                ->  Node: Is X[27] < 0.1578 \n",
      "                                                ->  LEAF:  Labels Count=0.0->57 Pred Probs=[1. 0.]\n",
      "                                ->  Node: Is X[0] < 18.475 \n",
      "                                                ->  LEAF:  Labels Count=0.0->57 Pred Probs=[1. 0.]\n"
     ]
    }
   ],
   "source": [
    "my_tree_2.print_tree()"
   ]
  },
  {
   "cell_type": "code",
   "execution_count": 11,
   "metadata": {},
   "outputs": [
    {
     "name": "stdout",
     "output_type": "stream",
     "text": [
      "TRAIN PERFORMANCE\n",
      "Train size 455\n",
      "True preds 425\n",
      "Train Accuracy 0.9340659340659341\n"
     ]
    }
   ],
   "source": [
    "# Let's see the Train performance\n",
    "train_preds = my_tree_2.predict(X_set=X_train)\n",
    "print(\"TRAIN PERFORMANCE\")\n",
    "print(\"Train size\", len(Y_train))\n",
    "print(\"True preds\", sum(train_preds == Y_train))\n",
    "print(\"Train Accuracy\", sum(train_preds == Y_train) / len(Y_train))"
   ]
  },
  {
   "cell_type": "code",
   "execution_count": 12,
   "metadata": {},
   "outputs": [
    {
     "name": "stdout",
     "output_type": "stream",
     "text": [
      "TEST PERFORMANCE\n",
      "Test size 114\n",
      "True preds 107\n",
      "Accuracy 0.9385964912280702\n"
     ]
    }
   ],
   "source": [
    "# Let's see the Test performance\n",
    "test_preds = my_tree_2.predict(X_set=X_test)\n",
    "print(\"TEST PERFORMANCE\")\n",
    "print(\"Test size\", len(Y_test))\n",
    "print(\"True preds\", sum(test_preds == Y_test))\n",
    "print(\"Accuracy\", sum(test_preds == Y_test) / len(Y_test))"
   ]
  },
  {
   "cell_type": "code",
   "execution_count": null,
   "metadata": {},
   "outputs": [],
   "source": []
  }
 ],
 "metadata": {
  "kernelspec": {
   "display_name": "dsfs",
   "language": "python",
   "name": "python3"
  },
  "language_info": {
   "codemirror_mode": {
    "name": "ipython",
    "version": 3
   },
   "file_extension": ".py",
   "mimetype": "text/x-python",
   "name": "python",
   "nbconvert_exporter": "python",
   "pygments_lexer": "ipython3",
   "version": "3.10.12"
  },
  "orig_nbformat": 4
 },
 "nbformat": 4,
 "nbformat_minor": 2
}
